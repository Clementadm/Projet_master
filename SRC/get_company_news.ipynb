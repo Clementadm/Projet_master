{
 "cells": [
  {
   "cell_type": "markdown",
   "metadata": {},
   "source": [
    "recuperer toutes les new des 2 apis en même temps \n",
    "et faire un seul dataset avec infos qui concorde"
   ]
  },
  {
   "cell_type": "code",
   "execution_count": 2,
   "metadata": {},
   "outputs": [],
   "source": [
    "from datetime import datetime, timedelta\n",
    "from API.get_data.api_finnhub import get_company_news\n",
    "from API.get_data.api_apinews_org import get_news"
   ]
  },
  {
   "cell_type": "markdown",
   "metadata": {},
   "source": [
    "# récupération des données de FINNHUB"
   ]
  },
  {
   "cell_type": "code",
   "execution_count": 3,
   "metadata": {},
   "outputs": [
    {
     "name": "stdout",
     "output_type": "stream",
     "text": [
      "News sur 8 days 08:59:50 jours \n"
     ]
    }
   ],
   "source": [
    "# news des 14 derniers jours \n",
    "from_date = (datetime.now() - timedelta(days=14)).strftime('%Y-%m-%d')\n",
    "today = datetime.now().strftime('%Y-%m-%d')\n",
    "\n",
    "finnhub_news = get_company_news('TSLA', from_date, today)"
   ]
  },
  {
   "cell_type": "markdown",
   "metadata": {},
   "source": [
    "# récupération des données de API_NEWS_ORG"
   ]
  },
  {
   "cell_type": "code",
   "execution_count": 9,
   "metadata": {},
   "outputs": [],
   "source": []
  },
  {
   "cell_type": "code",
   "execution_count": 11,
   "metadata": {},
   "outputs": [],
   "source": [
    "business = \"Tesla\""
   ]
  },
  {
   "cell_type": "code",
   "execution_count": 12,
   "metadata": {},
   "outputs": [
    {
     "name": "stdout",
     "output_type": "stream",
     "text": [
      "Date des articles de récupération des articles 2024-12-29\n"
     ]
    }
   ],
   "source": [
    "api_news_org = get_news(\n",
    "    business_name = business, \n",
    "    anteriorite_en_jours = 14 \n",
    ")"
   ]
  },
  {
   "cell_type": "code",
   "execution_count": 8,
   "metadata": {},
   "outputs": [],
   "source": [
    "api_news_org.to_csv(\"../Data/Output/test.csv\")"
   ]
  }
 ],
 "metadata": {
  "kernelspec": {
   "display_name": "EnvBourseproject",
   "language": "python",
   "name": "python3"
  },
  "language_info": {
   "codemirror_mode": {
    "name": "ipython",
    "version": 3
   },
   "file_extension": ".py",
   "mimetype": "text/x-python",
   "name": "python",
   "nbconvert_exporter": "python",
   "pygments_lexer": "ipython3",
   "version": "3.12.3"
  }
 },
 "nbformat": 4,
 "nbformat_minor": 2
}
