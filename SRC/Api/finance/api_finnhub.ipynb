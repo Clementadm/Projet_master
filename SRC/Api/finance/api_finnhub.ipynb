{
 "cells": [
  {
   "cell_type": "code",
   "execution_count": null,
   "metadata": {},
   "outputs": [],
   "source": [
    "import json\n",
    "import os\n",
    "\n",
    "parent_dir = os.path.abspath(os.path.join(\"../../../\", 'API_KEYS.json'))\n",
    "with open(parent_dir, \"r\") as fichier:\n",
    "    # Charger le contenu du fichier JSON dans une variable\n",
    "    data = json.load(fichier)"
   ]
  },
  {
   "cell_type": "code",
   "execution_count": null,
   "metadata": {},
   "outputs": [],
   "source": [
    "API_KEY = data[\"API\"][0][\"FinnHub\"]"
   ]
  }
 ],
 "metadata": {
  "kernelspec": {
   "display_name": "EnvBourseproject",
   "language": "python",
   "name": "python3"
  },
  "language_info": {
   "codemirror_mode": {
    "name": "ipython",
    "version": 3
   },
   "file_extension": ".py",
   "mimetype": "text/x-python",
   "name": "python",
   "nbconvert_exporter": "python",
   "pygments_lexer": "ipython3",
   "version": "3.12.3"
  }
 },
 "nbformat": 4,
 "nbformat_minor": 2
}
