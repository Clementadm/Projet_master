{
 "cells": [
  {
   "cell_type": "code",
   "execution_count": 41,
   "metadata": {},
   "outputs": [],
   "source": [
    "import requests\n",
    "from datetime import datetime, timedelta\n",
    "import os\n",
    "import pandas as pd\n",
    "import json\n",
    "import finnhub"
   ]
  },
  {
   "cell_type": "code",
   "execution_count": 5,
   "metadata": {},
   "outputs": [],
   "source": [
    "parent_dir = os.path.abspath(os.path.join(\"../../\", 'API_KEYS.json'))\n",
    "with open(parent_dir, \"r\") as fichier:\n",
    "    # Charger le contenu du fichier JSON dans une variable\n",
    "    data = json.load(fichier)"
   ]
  },
  {
   "cell_type": "code",
   "execution_count": 39,
   "metadata": {},
   "outputs": [],
   "source": [
    "API_KEY_NEWS = data[\"API\"][1][\"NewsAPI\"]\n",
    "API_KEY_FINNHUB = data[\"API\"][0][\"FinnHub\"]"
   ]
  },
  {
   "cell_type": "markdown",
   "metadata": {},
   "source": [
    "# APINEWS.ORG"
   ]
  },
  {
   "cell_type": "markdown",
   "metadata": {},
   "source": [
    "**sources=bloomberg,cnbc**  \n",
    "**language=fr** pour obtenir uniquement des articles en français.  "
   ]
  },
  {
   "cell_type": "code",
   "execution_count": 35,
   "metadata": {},
   "outputs": [],
   "source": [
    "def get_news(business_name, anteriorite_en_jours) :\n",
    "    from_date = (datetime.now() - timedelta(days=anteriorite_en_jours)).strftime('%Y-%m-%d')  # Exemple : articles des 7 derniers jours\n",
    "    print(f\"Date des articles de récupération des articles {from_date}\")\n",
    "    # sortBy=popularity : articles from popular sources and publishers come first\n",
    "    # sortBy=relevancy : articles more closely related to q come first\n",
    "    # sortBy=publishedAt : newest articles come first.\n",
    "\n",
    "    # searchIn The fields to restrict your q search to. can be separet by an comma\n",
    "    # title\n",
    "    # description\n",
    "    # content\n",
    "\n",
    "    # on cherche le nom de la companie dans le titre de l'article\n",
    "    # aves des articles du nombre de jours d'aujorunhuit - anteriorite_en_jours\n",
    "    # trier par articles plus populaire en premier\n",
    "    # uniquements \n",
    "    url = f\"https://newsapi.org/v2/everything?q={business_name}&searchIn=title&from={from_date}&sortBy=popularity&apiKey={API_KEY_NEWS}\"\n",
    "    response = requests.get(url)\n",
    "    data = response.json()\n",
    "    if data[\"status\"] == \"ok\":\n",
    "        return pd.json_normalize(data[\"articles\"])\n",
    "    else :\n",
    "        return print(\"Erreur:\", data.get(\"message\"))"
   ]
  },
  {
   "cell_type": "code",
   "execution_count": 36,
   "metadata": {},
   "outputs": [
    {
     "name": "stdout",
     "output_type": "stream",
     "text": [
      "Date des articles de récupération des articles 2024-12-07\n"
     ]
    }
   ],
   "source": [
    "all_news = get_news(\n",
    "    business_name = \"tesla\", \n",
    "    anteriorite_en_jours = 7\n",
    ")"
   ]
  },
  {
   "cell_type": "code",
   "execution_count": 38,
   "metadata": {},
   "outputs": [
    {
     "data": {
      "text/html": [
       "<div>\n",
       "<style scoped>\n",
       "    .dataframe tbody tr th:only-of-type {\n",
       "        vertical-align: middle;\n",
       "    }\n",
       "\n",
       "    .dataframe tbody tr th {\n",
       "        vertical-align: top;\n",
       "    }\n",
       "\n",
       "    .dataframe thead th {\n",
       "        text-align: right;\n",
       "    }\n",
       "</style>\n",
       "<table border=\"1\" class=\"dataframe\">\n",
       "  <thead>\n",
       "    <tr style=\"text-align: right;\">\n",
       "      <th></th>\n",
       "      <th>author</th>\n",
       "      <th>title</th>\n",
       "      <th>description</th>\n",
       "      <th>url</th>\n",
       "      <th>urlToImage</th>\n",
       "      <th>publishedAt</th>\n",
       "      <th>content</th>\n",
       "      <th>source.id</th>\n",
       "      <th>source.name</th>\n",
       "    </tr>\n",
       "  </thead>\n",
       "  <tbody>\n",
       "    <tr>\n",
       "      <th>0</th>\n",
       "      <td>Tom Carter</td>\n",
       "      <td>Tesla just lost one of its key autopilot execs...</td>\n",
       "      <td>Zheng Gao, an eight-year veteran at the Elon M...</td>\n",
       "      <td>https://www.businessinsider.com/tesla-loses-ke...</td>\n",
       "      <td>https://i.insider.com/675ac24552dd0818d1a691ab...</td>\n",
       "      <td>2024-12-12T15:05:45Z</td>\n",
       "      <td>Zoox has begun rolling out its robotaxi in San...</td>\n",
       "      <td>business-insider</td>\n",
       "      <td>Business Insider</td>\n",
       "    </tr>\n",
       "    <tr>\n",
       "      <th>1</th>\n",
       "      <td>Tom Carter</td>\n",
       "      <td>Tesla and Rivian are among the least reliable ...</td>\n",
       "      <td>Consumer Reports' 300,000 person survey finds ...</td>\n",
       "      <td>https://www.businessinsider.com/rivian-tesla-a...</td>\n",
       "      <td>https://i.insider.com/6756caf44adc4cc134353e97...</td>\n",
       "      <td>2024-12-09T11:17:26Z</td>\n",
       "      <td>The Tesla Cybertruck has faced a series of rec...</td>\n",
       "      <td>business-insider</td>\n",
       "      <td>Business Insider</td>\n",
       "    </tr>\n",
       "  </tbody>\n",
       "</table>\n",
       "</div>"
      ],
      "text/plain": [
       "       author                                              title  \\\n",
       "0  Tom Carter  Tesla just lost one of its key autopilot execs...   \n",
       "1  Tom Carter  Tesla and Rivian are among the least reliable ...   \n",
       "\n",
       "                                         description  \\\n",
       "0  Zheng Gao, an eight-year veteran at the Elon M...   \n",
       "1  Consumer Reports' 300,000 person survey finds ...   \n",
       "\n",
       "                                                 url  \\\n",
       "0  https://www.businessinsider.com/tesla-loses-ke...   \n",
       "1  https://www.businessinsider.com/rivian-tesla-a...   \n",
       "\n",
       "                                          urlToImage           publishedAt  \\\n",
       "0  https://i.insider.com/675ac24552dd0818d1a691ab...  2024-12-12T15:05:45Z   \n",
       "1  https://i.insider.com/6756caf44adc4cc134353e97...  2024-12-09T11:17:26Z   \n",
       "\n",
       "                                             content         source.id  \\\n",
       "0  Zoox has begun rolling out its robotaxi in San...  business-insider   \n",
       "1  The Tesla Cybertruck has faced a series of rec...  business-insider   \n",
       "\n",
       "        source.name  \n",
       "0  Business Insider  \n",
       "1  Business Insider  "
      ]
     },
     "execution_count": 38,
     "metadata": {},
     "output_type": "execute_result"
    }
   ],
   "source": [
    "all_news.head(2)"
   ]
  },
  {
   "cell_type": "markdown",
   "metadata": {},
   "source": [
    "# API FINHUB"
   ]
  },
  {
   "cell_type": "code",
   "execution_count": 42,
   "metadata": {},
   "outputs": [],
   "source": [
    "finnhub_client = finnhub.Client(api_key=API_KEY_FINNHUB)"
   ]
  }
 ],
 "metadata": {
  "kernelspec": {
   "display_name": "EnvBourseproject",
   "language": "python",
   "name": "python3"
  },
  "language_info": {
   "codemirror_mode": {
    "name": "ipython",
    "version": 3
   },
   "file_extension": ".py",
   "mimetype": "text/x-python",
   "name": "python",
   "nbconvert_exporter": "python",
   "pygments_lexer": "ipython3",
   "version": "3.12.3"
  }
 },
 "nbformat": 4,
 "nbformat_minor": 2
}
