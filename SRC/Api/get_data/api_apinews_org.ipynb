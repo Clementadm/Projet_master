{
 "cells": [
  {
   "cell_type": "code",
   "execution_count": 2,
   "metadata": {},
   "outputs": [],
   "source": [
    "from get_api_keys import API_KEY_NEWS\n",
    "import requests\n",
    "from datetime import datetime, timedelta\n",
    "import os\n",
    "import pandas as pd\n",
    "import json"
   ]
  },
  {
   "cell_type": "markdown",
   "metadata": {},
   "source": [
    "# <h1 style=\"color:red\"> APINEWS.ORG"
   ]
  },
  {
   "cell_type": "markdown",
   "metadata": {},
   "source": [
    "**sources=bloomberg,cnbc**  \n",
    "**language=fr** pour obtenir uniquement des articles en français.  "
   ]
  },
  {
   "cell_type": "code",
   "execution_count": 4,
   "metadata": {},
   "outputs": [],
   "source": [
    "def get_news(business_name, anteriorite_en_jours) :\n",
    "    from_date = (datetime.now() - timedelta(days=anteriorite_en_jours)).strftime('%Y-%m-%d')  # Exemple : articles des 7 derniers jours\n",
    "    print(f\"Date des articles de récupération des articles {from_date}\")\n",
    "    # sortBy=popularity : articles from popular sources and publishers come first\n",
    "    # sortBy=relevancy : articles more closely related to q come first\n",
    "    # sortBy=publishedAt : newest articles come first.\n",
    "\n",
    "    # searchIn The fields to restrict your q search to. can be separet by an comma\n",
    "    # title\n",
    "    # description\n",
    "    # content\n",
    "\n",
    "    # on cherche le nom de la companie dans le titre de l'article\n",
    "    # aves des articles du nombre de jours d'aujorunhuit - anteriorite_en_jours\n",
    "    # trier par articles plus populaire en premier\n",
    "    # uniquements \n",
    "    url = f\"https://newsapi.org/v2/everything?q={business_name}&searchIn=title&from={from_date}&sortBy=popularity&apiKey={API_KEY_NEWS}\"\n",
    "    response = requests.get(url)\n",
    "    data = response.json()\n",
    "    if data[\"status\"] == \"ok\":\n",
    "        return pd.json_normalize(data[\"articles\"])\n",
    "    else :\n",
    "        return print(\"Erreur:\", data.get(\"message\"))"
   ]
  },
  {
   "cell_type": "code",
   "execution_count": 5,
   "metadata": {},
   "outputs": [
    {
     "name": "stdout",
     "output_type": "stream",
     "text": [
      "Date des articles de récupération des articles 2025-01-05\n"
     ]
    }
   ],
   "source": [
    "all_news = get_news(\n",
    "    business_name = \"tesla\", \n",
    "    anteriorite_en_jours = 7\n",
    ")"
   ]
  },
  {
   "cell_type": "code",
   "execution_count": 6,
   "metadata": {},
   "outputs": [
    {
     "data": {
      "text/html": [
       "<div>\n",
       "<style scoped>\n",
       "    .dataframe tbody tr th:only-of-type {\n",
       "        vertical-align: middle;\n",
       "    }\n",
       "\n",
       "    .dataframe tbody tr th {\n",
       "        vertical-align: top;\n",
       "    }\n",
       "\n",
       "    .dataframe thead th {\n",
       "        text-align: right;\n",
       "    }\n",
       "</style>\n",
       "<table border=\"1\" class=\"dataframe\">\n",
       "  <thead>\n",
       "    <tr style=\"text-align: right;\">\n",
       "      <th></th>\n",
       "      <th>author</th>\n",
       "      <th>title</th>\n",
       "      <th>description</th>\n",
       "      <th>url</th>\n",
       "      <th>urlToImage</th>\n",
       "      <th>publishedAt</th>\n",
       "      <th>content</th>\n",
       "      <th>source.id</th>\n",
       "      <th>source.name</th>\n",
       "    </tr>\n",
       "  </thead>\n",
       "  <tbody>\n",
       "    <tr>\n",
       "      <th>0</th>\n",
       "      <td>None</td>\n",
       "      <td>[Removed]</td>\n",
       "      <td>[Removed]</td>\n",
       "      <td>https://removed.com</td>\n",
       "      <td>None</td>\n",
       "      <td>2025-01-07T19:45:59Z</td>\n",
       "      <td>[Removed]</td>\n",
       "      <td>None</td>\n",
       "      <td>[Removed]</td>\n",
       "    </tr>\n",
       "    <tr>\n",
       "      <th>1</th>\n",
       "      <td>Tom Carter</td>\n",
       "      <td>Tesla is launching a refreshed Model Y in Chin...</td>\n",
       "      <td>Tesla unveiled a long-rumored refresh of the M...</td>\n",
       "      <td>https://www.businessinsider.com/tesla-launches...</td>\n",
       "      <td>https://i.insider.com/678107ba50dfd88e193dc5d1...</td>\n",
       "      <td>2025-01-10T12:04:13Z</td>\n",
       "      <td>The Model Y is Tesla's best-selling vehicle.Pa...</td>\n",
       "      <td>business-insider</td>\n",
       "      <td>Business Insider</td>\n",
       "    </tr>\n",
       "  </tbody>\n",
       "</table>\n",
       "</div>"
      ],
      "text/plain": [
       "       author                                              title  \\\n",
       "0        None                                          [Removed]   \n",
       "1  Tom Carter  Tesla is launching a refreshed Model Y in Chin...   \n",
       "\n",
       "                                         description  \\\n",
       "0                                          [Removed]   \n",
       "1  Tesla unveiled a long-rumored refresh of the M...   \n",
       "\n",
       "                                                 url  \\\n",
       "0                                https://removed.com   \n",
       "1  https://www.businessinsider.com/tesla-launches...   \n",
       "\n",
       "                                          urlToImage           publishedAt  \\\n",
       "0                                               None  2025-01-07T19:45:59Z   \n",
       "1  https://i.insider.com/678107ba50dfd88e193dc5d1...  2025-01-10T12:04:13Z   \n",
       "\n",
       "                                             content         source.id  \\\n",
       "0                                          [Removed]              None   \n",
       "1  The Model Y is Tesla's best-selling vehicle.Pa...  business-insider   \n",
       "\n",
       "        source.name  \n",
       "0         [Removed]  \n",
       "1  Business Insider  "
      ]
     },
     "execution_count": 6,
     "metadata": {},
     "output_type": "execute_result"
    }
   ],
   "source": [
    "all_news.head(2)"
   ]
  }
 ],
 "metadata": {
  "kernelspec": {
   "display_name": "EnvBourseproject",
   "language": "python",
   "name": "python3"
  },
  "language_info": {
   "codemirror_mode": {
    "name": "ipython",
    "version": 3
   },
   "file_extension": ".py",
   "mimetype": "text/x-python",
   "name": "python",
   "nbconvert_exporter": "python",
   "pygments_lexer": "ipython3",
   "version": "3.12.3"
  }
 },
 "nbformat": 4,
 "nbformat_minor": 2
}
