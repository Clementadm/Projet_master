{
 "cells": [
  {
   "cell_type": "code",
   "execution_count": 2,
   "metadata": {},
   "outputs": [
    {
     "ename": "FileNotFoundError",
     "evalue": "[Errno 2] No such file or directory: 'd:\\\\Ynov\\\\M2\\\\Projet Master\\\\Projet_bourse\\\\Projet_master\\\\SRC\\\\API\\\\API_KEYS.json'",
     "output_type": "error",
     "traceback": [
      "\u001b[1;31m---------------------------------------------------------------------------\u001b[0m",
      "\u001b[1;31mFileNotFoundError\u001b[0m                         Traceback (most recent call last)",
      "Cell \u001b[1;32mIn[2], line 2\u001b[0m\n\u001b[0;32m      1\u001b[0m \u001b[38;5;28;01mimport\u001b[39;00m \u001b[38;5;21;01mrequests\u001b[39;00m\n\u001b[1;32m----> 2\u001b[0m \u001b[38;5;28;01mfrom\u001b[39;00m \u001b[38;5;21;01mget_api_keys\u001b[39;00m \u001b[38;5;28;01mimport\u001b[39;00m API_KEY_FINNHUB\n\u001b[0;32m      3\u001b[0m \u001b[38;5;28;01mfrom\u001b[39;00m \u001b[38;5;21;01mdatetime\u001b[39;00m \u001b[38;5;28;01mimport\u001b[39;00m datetime, timedelta\n\u001b[0;32m      4\u001b[0m \u001b[38;5;28;01mimport\u001b[39;00m \u001b[38;5;21;01mos\u001b[39;00m\n",
      "File \u001b[1;32md:\\Ynov\\M2\\Projet Master\\Projet_bourse\\Projet_master\\SRC\\API\\get_data\\get_api_keys.py:9\u001b[0m\n\u001b[0;32m      6\u001b[0m \u001b[38;5;66;03m# %%\u001b[39;00m\n\u001b[0;32m      7\u001b[0m \u001b[38;5;66;03m# parent_dir = os.path.abspath(os.path.join(\"../../../\", \"API_KEYS.json\"))\u001b[39;00m\n\u001b[0;32m      8\u001b[0m parent_dir \u001b[38;5;241m=\u001b[39m os\u001b[38;5;241m.\u001b[39mpath\u001b[38;5;241m.\u001b[39mabspath(os\u001b[38;5;241m.\u001b[39mpath\u001b[38;5;241m.\u001b[39mjoin(\u001b[38;5;124m\"\u001b[39m\u001b[38;5;124m../\u001b[39m\u001b[38;5;124m\"\u001b[39m, \u001b[38;5;124m\"\u001b[39m\u001b[38;5;124mAPI_KEYS.json\u001b[39m\u001b[38;5;124m\"\u001b[39m))\n\u001b[1;32m----> 9\u001b[0m \u001b[38;5;28;01mwith\u001b[39;00m \u001b[38;5;28;43mopen\u001b[39;49m\u001b[43m(\u001b[49m\u001b[43mparent_dir\u001b[49m\u001b[43m,\u001b[49m\u001b[43m \u001b[49m\u001b[38;5;124;43m\"\u001b[39;49m\u001b[38;5;124;43mr\u001b[39;49m\u001b[38;5;124;43m\"\u001b[39;49m\u001b[43m)\u001b[49m \u001b[38;5;28;01mas\u001b[39;00m fichier:\n\u001b[0;32m     10\u001b[0m     \u001b[38;5;66;03m# Charger le contenu du fichier JSON dans une variable\u001b[39;00m\n\u001b[0;32m     11\u001b[0m     data \u001b[38;5;241m=\u001b[39m json\u001b[38;5;241m.\u001b[39mload(fichier)\n\u001b[0;32m     13\u001b[0m \u001b[38;5;66;03m# %%\u001b[39;00m\n",
      "\u001b[1;31mFileNotFoundError\u001b[0m: [Errno 2] No such file or directory: 'd:\\\\Ynov\\\\M2\\\\Projet Master\\\\Projet_bourse\\\\Projet_master\\\\SRC\\\\API\\\\API_KEYS.json'"
     ]
    }
   ],
   "source": [
    "import requests\n",
    "from get_api_keys import API_KEY_FINNHUB\n",
    "from datetime import datetime, timedelta\n",
    "import os\n",
    "import pandas as pd\n",
    "import json\n",
    "import finnhub"
   ]
  },
  {
   "cell_type": "markdown",
   "metadata": {},
   "source": [
    "# <h1 style=\"color:red\"> API FINHUB"
   ]
  },
  {
   "cell_type": "code",
   "execution_count": 3,
   "metadata": {},
   "outputs": [],
   "source": [
    "finnhub_client = finnhub.Client(api_key=API_KEY_FINNHUB)"
   ]
  },
  {
   "cell_type": "markdown",
   "metadata": {},
   "source": [
    "## <h2 style=\"color:purple\"> NEWS"
   ]
  },
  {
   "cell_type": "markdown",
   "metadata": {},
   "source": [
    "### <h3 style=\"color:cyan\"> get_company_news"
   ]
  },
  {
   "cell_type": "code",
   "execution_count": 4,
   "metadata": {},
   "outputs": [],
   "source": [
    "def get_company_news(business_name, begin_date, end_date):\n",
    "    news = finnhub_client.company_news(business_name, _from=begin_date, to=end_date)\n",
    "    news = pd.json_normalize(news)\n",
    "    news[\"datetime\"] = news[\"datetime\"].apply(lambda x : datetime.fromtimestamp(x))\n",
    "    news[\"year\"] = news[\"datetime\"].apply(lambda x : x.year)\n",
    "    news[\"month\"] = news[\"datetime\"].apply(lambda x : x.month)\n",
    "    news[\"day\"] = news[\"datetime\"].apply(lambda x : x.day)\n",
    "    print(f\"News sur {news.loc[0, \"datetime\"] - news.loc[len(news)-1, \"datetime\"]} jours \")\n",
    "    return news"
   ]
  },
  {
   "cell_type": "code",
   "execution_count": 5,
   "metadata": {},
   "outputs": [
    {
     "name": "stdout",
     "output_type": "stream",
     "text": [
      "News sur 7 days 05:29:11 jours \n"
     ]
    }
   ],
   "source": [
    "from_date = (datetime.now() - timedelta(days=7)).strftime('%Y-%m-%d')\n",
    "today = datetime.now().strftime('%Y-%m-%d')\n",
    "\n",
    "#a = get_company_news('TSLA', \"2024-01-01\", \"2024-11-01\")\n",
    "finnhub_business_news = get_company_news('TSLA', from_date, today)"
   ]
  },
  {
   "cell_type": "code",
   "execution_count": 6,
   "metadata": {},
   "outputs": [
    {
     "data": {
      "text/plain": [
       "(212, 12)"
      ]
     },
     "execution_count": 6,
     "metadata": {},
     "output_type": "execute_result"
    }
   ],
   "source": [
    "finnhub_business_news.shape"
   ]
  },
  {
   "cell_type": "code",
   "execution_count": 7,
   "metadata": {},
   "outputs": [
    {
     "data": {
      "text/html": [
       "<div>\n",
       "<style scoped>\n",
       "    .dataframe tbody tr th:only-of-type {\n",
       "        vertical-align: middle;\n",
       "    }\n",
       "\n",
       "    .dataframe tbody tr th {\n",
       "        vertical-align: top;\n",
       "    }\n",
       "\n",
       "    .dataframe thead th {\n",
       "        text-align: right;\n",
       "    }\n",
       "</style>\n",
       "<table border=\"1\" class=\"dataframe\">\n",
       "  <thead>\n",
       "    <tr style=\"text-align: right;\">\n",
       "      <th></th>\n",
       "      <th>category</th>\n",
       "      <th>datetime</th>\n",
       "      <th>headline</th>\n",
       "      <th>id</th>\n",
       "      <th>image</th>\n",
       "      <th>related</th>\n",
       "      <th>source</th>\n",
       "      <th>summary</th>\n",
       "      <th>url</th>\n",
       "      <th>year</th>\n",
       "      <th>month</th>\n",
       "      <th>day</th>\n",
       "    </tr>\n",
       "  </thead>\n",
       "  <tbody>\n",
       "    <tr>\n",
       "      <th>0</th>\n",
       "      <td>company</td>\n",
       "      <td>2024-12-14 07:43:10</td>\n",
       "      <td>What Moved Markets This Week</td>\n",
       "      <td>131982553</td>\n",
       "      <td>https://static.seekingalpha.com/cdn/s3/uploads...</td>\n",
       "      <td>TSLA</td>\n",
       "      <td>SeekingAlpha</td>\n",
       "      <td>The awful market breadth and concerns sparked ...</td>\n",
       "      <td>https://finnhub.io/api/news?id=591a3c242f8ff56...</td>\n",
       "      <td>2024</td>\n",
       "      <td>12</td>\n",
       "      <td>14</td>\n",
       "    </tr>\n",
       "    <tr>\n",
       "      <th>1</th>\n",
       "      <td>company</td>\n",
       "      <td>2024-12-14 00:54:16</td>\n",
       "      <td>Best Way To Invest $100,000: Build An 8-Stock ...</td>\n",
       "      <td>131977467</td>\n",
       "      <td>https://static.seekingalpha.com/cdn/s3/uploads...</td>\n",
       "      <td>TSLA</td>\n",
       "      <td>SeekingAlpha</td>\n",
       "      <td>Learn how to maximize returns by focusing on h...</td>\n",
       "      <td>https://finnhub.io/api/news?id=55d1529df95faa2...</td>\n",
       "      <td>2024</td>\n",
       "      <td>12</td>\n",
       "      <td>14</td>\n",
       "    </tr>\n",
       "    <tr>\n",
       "      <th>2</th>\n",
       "      <td>company</td>\n",
       "      <td>2024-12-13 23:55:34</td>\n",
       "      <td>Tesla raises prices of Model S cars in US by $...</td>\n",
       "      <td>131976825</td>\n",
       "      <td></td>\n",
       "      <td>TSLA</td>\n",
       "      <td>Finnhub</td>\n",
       "      <td>Tesla on Friday raised the prices of its Model...</td>\n",
       "      <td>https://finnhub.io/api/news?id=651b5a9382b6a7c...</td>\n",
       "      <td>2024</td>\n",
       "      <td>12</td>\n",
       "      <td>13</td>\n",
       "    </tr>\n",
       "  </tbody>\n",
       "</table>\n",
       "</div>"
      ],
      "text/plain": [
       "  category            datetime  \\\n",
       "0  company 2024-12-14 07:43:10   \n",
       "1  company 2024-12-14 00:54:16   \n",
       "2  company 2024-12-13 23:55:34   \n",
       "\n",
       "                                            headline         id  \\\n",
       "0                       What Moved Markets This Week  131982553   \n",
       "1  Best Way To Invest $100,000: Build An 8-Stock ...  131977467   \n",
       "2  Tesla raises prices of Model S cars in US by $...  131976825   \n",
       "\n",
       "                                               image related        source  \\\n",
       "0  https://static.seekingalpha.com/cdn/s3/uploads...    TSLA  SeekingAlpha   \n",
       "1  https://static.seekingalpha.com/cdn/s3/uploads...    TSLA  SeekingAlpha   \n",
       "2                                                       TSLA       Finnhub   \n",
       "\n",
       "                                             summary  \\\n",
       "0  The awful market breadth and concerns sparked ...   \n",
       "1  Learn how to maximize returns by focusing on h...   \n",
       "2  Tesla on Friday raised the prices of its Model...   \n",
       "\n",
       "                                                 url  year  month  day  \n",
       "0  https://finnhub.io/api/news?id=591a3c242f8ff56...  2024     12   14  \n",
       "1  https://finnhub.io/api/news?id=55d1529df95faa2...  2024     12   14  \n",
       "2  https://finnhub.io/api/news?id=651b5a9382b6a7c...  2024     12   13  "
      ]
     },
     "execution_count": 7,
     "metadata": {},
     "output_type": "execute_result"
    }
   ],
   "source": [
    "finnhub_business_news.head(3)"
   ]
  },
  {
   "cell_type": "markdown",
   "metadata": {},
   "source": [
    "### <h3 style=\"color:cyan\"> get_general_news_country"
   ]
  },
  {
   "cell_type": "code",
   "execution_count": 8,
   "metadata": {},
   "outputs": [],
   "source": [
    "def get_general_news_country():\n",
    "    news = pd.json_normalize(\n",
    "        finnhub_client.general_news('general') # Accès aux dernières nouvelles générales, de forex, de crypto, et de fusions.\n",
    "    )\n",
    "    news[\"datetime\"] = news[\"datetime\"].apply(lambda x : datetime.fromtimestamp(x))\n",
    "    news[\"year\"] = news[\"datetime\"].apply(lambda x : x.year)\n",
    "    news[\"month\"] = news[\"datetime\"].apply(lambda x : x.month)\n",
    "    news[\"day\"] = news[\"datetime\"].apply(lambda x : x.day)\n",
    "    print(f\"News sur {news.loc[0, \"datetime\"] - news.loc[len(news)-1, \"datetime\"]} jours \")\n",
    "    return news\n"
   ]
  },
  {
   "cell_type": "code",
   "execution_count": 9,
   "metadata": {},
   "outputs": [
    {
     "name": "stdout",
     "output_type": "stream",
     "text": [
      "News sur 1 days 21:55:32 jours \n"
     ]
    }
   ],
   "source": [
    "finnhub_country_news = get_general_news_country()"
   ]
  },
  {
   "cell_type": "code",
   "execution_count": 10,
   "metadata": {},
   "outputs": [
    {
     "data": {
      "text/plain": [
       "(100, 12)"
      ]
     },
     "execution_count": 10,
     "metadata": {},
     "output_type": "execute_result"
    }
   ],
   "source": [
    "finnhub_country_news.shape"
   ]
  },
  {
   "cell_type": "code",
   "execution_count": 11,
   "metadata": {},
   "outputs": [
    {
     "data": {
      "text/html": [
       "<div>\n",
       "<style scoped>\n",
       "    .dataframe tbody tr th:only-of-type {\n",
       "        vertical-align: middle;\n",
       "    }\n",
       "\n",
       "    .dataframe tbody tr th {\n",
       "        vertical-align: top;\n",
       "    }\n",
       "\n",
       "    .dataframe thead th {\n",
       "        text-align: right;\n",
       "    }\n",
       "</style>\n",
       "<table border=\"1\" class=\"dataframe\">\n",
       "  <thead>\n",
       "    <tr style=\"text-align: right;\">\n",
       "      <th></th>\n",
       "      <th>category</th>\n",
       "      <th>datetime</th>\n",
       "      <th>headline</th>\n",
       "      <th>id</th>\n",
       "      <th>image</th>\n",
       "      <th>related</th>\n",
       "      <th>source</th>\n",
       "      <th>summary</th>\n",
       "      <th>url</th>\n",
       "      <th>year</th>\n",
       "      <th>month</th>\n",
       "      <th>day</th>\n",
       "    </tr>\n",
       "  </thead>\n",
       "  <tbody>\n",
       "    <tr>\n",
       "      <th>0</th>\n",
       "      <td>top news</td>\n",
       "      <td>2024-12-14 02:09:09</td>\n",
       "      <td>Bitcoin proxy MicroStrategy to join the Nasdaq...</td>\n",
       "      <td>7434396</td>\n",
       "      <td>https://image.cnbcfm.com/api/v1/image/10691965...</td>\n",
       "      <td></td>\n",
       "      <td>CNBC</td>\n",
       "      <td>MicroStrategy, the high beta play on the price...</td>\n",
       "      <td>https://www.cnbc.com/2024/12/13/bitcoin-proxy-...</td>\n",
       "      <td>2024</td>\n",
       "      <td>12</td>\n",
       "      <td>14</td>\n",
       "    </tr>\n",
       "    <tr>\n",
       "      <th>1</th>\n",
       "      <td>top news</td>\n",
       "      <td>2024-12-14 00:33:26</td>\n",
       "      <td>Cramer's week ahead: Fed decision and earnings...</td>\n",
       "      <td>7434393</td>\n",
       "      <td>https://image.cnbcfm.com/api/v1/image/10735022...</td>\n",
       "      <td></td>\n",
       "      <td>CNBC</td>\n",
       "      <td>CNBC's Jim Cramer walked investors through nex...</td>\n",
       "      <td>https://www.cnbc.com/2024/12/13/cramers-week-a...</td>\n",
       "      <td>2024</td>\n",
       "      <td>12</td>\n",
       "      <td>14</td>\n",
       "    </tr>\n",
       "    <tr>\n",
       "      <th>2</th>\n",
       "      <td>top news</td>\n",
       "      <td>2024-12-13 22:25:11</td>\n",
       "      <td>Tech companies most threatened by Trump are do...</td>\n",
       "      <td>7434380</td>\n",
       "      <td>https://image.cnbcfm.com/api/v1/image/10807285...</td>\n",
       "      <td></td>\n",
       "      <td>CNBC</td>\n",
       "      <td>Amazon, Meta and OpenAI CEO Sam Altman have al...</td>\n",
       "      <td>https://www.cnbc.com/2024/12/13/tech-companies...</td>\n",
       "      <td>2024</td>\n",
       "      <td>12</td>\n",
       "      <td>13</td>\n",
       "    </tr>\n",
       "  </tbody>\n",
       "</table>\n",
       "</div>"
      ],
      "text/plain": [
       "   category            datetime  \\\n",
       "0  top news 2024-12-14 02:09:09   \n",
       "1  top news 2024-12-14 00:33:26   \n",
       "2  top news 2024-12-13 22:25:11   \n",
       "\n",
       "                                            headline       id  \\\n",
       "0  Bitcoin proxy MicroStrategy to join the Nasdaq...  7434396   \n",
       "1  Cramer's week ahead: Fed decision and earnings...  7434393   \n",
       "2  Tech companies most threatened by Trump are do...  7434380   \n",
       "\n",
       "                                               image related source  \\\n",
       "0  https://image.cnbcfm.com/api/v1/image/10691965...           CNBC   \n",
       "1  https://image.cnbcfm.com/api/v1/image/10735022...           CNBC   \n",
       "2  https://image.cnbcfm.com/api/v1/image/10807285...           CNBC   \n",
       "\n",
       "                                             summary  \\\n",
       "0  MicroStrategy, the high beta play on the price...   \n",
       "1  CNBC's Jim Cramer walked investors through nex...   \n",
       "2  Amazon, Meta and OpenAI CEO Sam Altman have al...   \n",
       "\n",
       "                                                 url  year  month  day  \n",
       "0  https://www.cnbc.com/2024/12/13/bitcoin-proxy-...  2024     12   14  \n",
       "1  https://www.cnbc.com/2024/12/13/cramers-week-a...  2024     12   14  \n",
       "2  https://www.cnbc.com/2024/12/13/tech-companies...  2024     12   13  "
      ]
     },
     "execution_count": 11,
     "metadata": {},
     "output_type": "execute_result"
    }
   ],
   "source": [
    "finnhub_country_news.head(3)"
   ]
  },
  {
   "cell_type": "markdown",
   "metadata": {},
   "source": [
    "## <h2 style=\"color:purple\"> Financial information about the company"
   ]
  },
  {
   "cell_type": "markdown",
   "metadata": {},
   "source": [
    "### <h3 style=\"color:cyan\"> Competitor"
   ]
  },
  {
   "cell_type": "code",
   "execution_count": 12,
   "metadata": {},
   "outputs": [],
   "source": [
    "def get_competitor(business_name):\n",
    "    \"\"\" get concurent\"\"\"\n",
    "    company_peers = finnhub_client.company_peers(business_name)\n",
    "    return company_peers"
   ]
  },
  {
   "cell_type": "code",
   "execution_count": null,
   "metadata": {},
   "outputs": [],
   "source": [
    "get_competitor('AAPL')"
   ]
  },
  {
   "cell_type": "markdown",
   "metadata": {},
   "source": [
    "### <h3 style=\"color:cyan\"> Recommendation trends"
   ]
  },
  {
   "cell_type": "code",
   "execution_count": null,
   "metadata": {},
   "outputs": [],
   "source": [
    "def recommendation_trends(business_name):\n",
    "    # Recommendation trends Recommandations des analystes, cibles de prix et surprises sur les bénéfices.\n",
    "    recommendation = pd.json_normalize(finnhub_client.recommendation_trends(business_name))\n",
    "    return recommendation"
   ]
  },
  {
   "cell_type": "code",
   "execution_count": null,
   "metadata": {},
   "outputs": [],
   "source": [
    "recommendation_trends(\"AAPL\")"
   ]
  },
  {
   "cell_type": "markdown",
   "metadata": {},
   "source": [
    "### <h3 style=\"color:cyan\"> Insider sentiment"
   ]
  },
  {
   "cell_type": "code",
   "execution_count": 17,
   "metadata": {},
   "outputs": [],
   "source": [
    "def insider_sentiment(business_name, begin_date, end_date):\n",
    "    \"\"\"\n",
    "    sentiment des initiés (dirigeants d'entreprises) concernant des sociétés américaines. Cette mesure est calculée en utilisant la méthode MSPR (Mean Sentiment Per Report), \n",
    "    qui évalue le sentiment global exprimé dans les rapports d'insiders.\n",
    "    L'échelle de MSPR va de -100 (très négatif) à 100 (très positif)\n",
    "    Ces sentiments peuvent être utilisés pour anticiper des changements de prix dans les 30 à 90 jours à venir.\n",
    "    \"\"\"\n",
    "    df = pd.json_normalize(finnhub_client.stock_insider_sentiment(business_name, begin_date, end_date)[\"data\"])\n",
    "    return df"
   ]
  },
  {
   "cell_type": "code",
   "execution_count": 18,
   "metadata": {},
   "outputs": [
    {
     "data": {
      "text/html": [
       "<div>\n",
       "<style scoped>\n",
       "    .dataframe tbody tr th:only-of-type {\n",
       "        vertical-align: middle;\n",
       "    }\n",
       "\n",
       "    .dataframe tbody tr th {\n",
       "        vertical-align: top;\n",
       "    }\n",
       "\n",
       "    .dataframe thead th {\n",
       "        text-align: right;\n",
       "    }\n",
       "</style>\n",
       "<table border=\"1\" class=\"dataframe\">\n",
       "  <thead>\n",
       "    <tr style=\"text-align: right;\">\n",
       "      <th></th>\n",
       "      <th>symbol</th>\n",
       "      <th>year</th>\n",
       "      <th>month</th>\n",
       "      <th>change</th>\n",
       "      <th>mspr</th>\n",
       "    </tr>\n",
       "  </thead>\n",
       "  <tbody>\n",
       "    <tr>\n",
       "      <th>0</th>\n",
       "      <td>AAPL</td>\n",
       "      <td>2024</td>\n",
       "      <td>2</td>\n",
       "      <td>-89388</td>\n",
       "      <td>-63.737488</td>\n",
       "    </tr>\n",
       "    <tr>\n",
       "      <th>1</th>\n",
       "      <td>AAPL</td>\n",
       "      <td>2024</td>\n",
       "      <td>4</td>\n",
       "      <td>-652766</td>\n",
       "      <td>-33.164017</td>\n",
       "    </tr>\n",
       "    <tr>\n",
       "      <th>2</th>\n",
       "      <td>AAPL</td>\n",
       "      <td>2024</td>\n",
       "      <td>5</td>\n",
       "      <td>-81849</td>\n",
       "      <td>-100.000000</td>\n",
       "    </tr>\n",
       "    <tr>\n",
       "      <th>3</th>\n",
       "      <td>AAPL</td>\n",
       "      <td>2024</td>\n",
       "      <td>8</td>\n",
       "      <td>-118384</td>\n",
       "      <td>-100.000000</td>\n",
       "    </tr>\n",
       "    <tr>\n",
       "      <th>4</th>\n",
       "      <td>AAPL</td>\n",
       "      <td>2024</td>\n",
       "      <td>9</td>\n",
       "      <td>549640</td>\n",
       "      <td>100.000000</td>\n",
       "    </tr>\n",
       "    <tr>\n",
       "      <th>5</th>\n",
       "      <td>AAPL</td>\n",
       "      <td>2024</td>\n",
       "      <td>10</td>\n",
       "      <td>-990414</td>\n",
       "      <td>-33.240925</td>\n",
       "    </tr>\n",
       "    <tr>\n",
       "      <th>6</th>\n",
       "      <td>AAPL</td>\n",
       "      <td>2024</td>\n",
       "      <td>11</td>\n",
       "      <td>-212130</td>\n",
       "      <td>-100.000000</td>\n",
       "    </tr>\n",
       "  </tbody>\n",
       "</table>\n",
       "</div>"
      ],
      "text/plain": [
       "  symbol  year  month  change        mspr\n",
       "0   AAPL  2024      2  -89388  -63.737488\n",
       "1   AAPL  2024      4 -652766  -33.164017\n",
       "2   AAPL  2024      5  -81849 -100.000000\n",
       "3   AAPL  2024      8 -118384 -100.000000\n",
       "4   AAPL  2024      9  549640  100.000000\n",
       "5   AAPL  2024     10 -990414  -33.240925\n",
       "6   AAPL  2024     11 -212130 -100.000000"
      ]
     },
     "execution_count": 18,
     "metadata": {},
     "output_type": "execute_result"
    }
   ],
   "source": [
    "insider_sentiment('AAPL', from_date, today)"
   ]
  },
  {
   "cell_type": "markdown",
   "metadata": {},
   "source": [
    "### <h3 style=\"color:cyan\"> Info businness"
   ]
  },
  {
   "cell_type": "code",
   "execution_count": 28,
   "metadata": {},
   "outputs": [],
   "source": [
    "def info_company(business_name):\n",
    "    df = pd.json_normalize(finnhub_client.company_profile2(symbol=business_name))\n",
    "    df = df[[\"country\", \"currency\", \"finnhubIndustry\", \"marketCapitalization\"]]\n",
    "    return df "
   ]
  },
  {
   "cell_type": "code",
   "execution_count": 29,
   "metadata": {},
   "outputs": [
    {
     "data": {
      "text/html": [
       "<div>\n",
       "<style scoped>\n",
       "    .dataframe tbody tr th:only-of-type {\n",
       "        vertical-align: middle;\n",
       "    }\n",
       "\n",
       "    .dataframe tbody tr th {\n",
       "        vertical-align: top;\n",
       "    }\n",
       "\n",
       "    .dataframe thead th {\n",
       "        text-align: right;\n",
       "    }\n",
       "</style>\n",
       "<table border=\"1\" class=\"dataframe\">\n",
       "  <thead>\n",
       "    <tr style=\"text-align: right;\">\n",
       "      <th></th>\n",
       "      <th>country</th>\n",
       "      <th>currency</th>\n",
       "      <th>finnhubIndustry</th>\n",
       "      <th>marketCapitalization</th>\n",
       "    </tr>\n",
       "  </thead>\n",
       "  <tbody>\n",
       "    <tr>\n",
       "      <th>0</th>\n",
       "      <td>US</td>\n",
       "      <td>USD</td>\n",
       "      <td>Technology</td>\n",
       "      <td>3.750689e+06</td>\n",
       "    </tr>\n",
       "  </tbody>\n",
       "</table>\n",
       "</div>"
      ],
      "text/plain": [
       "  country currency finnhubIndustry  marketCapitalization\n",
       "0      US      USD      Technology          3.750689e+06"
      ]
     },
     "execution_count": 29,
     "metadata": {},
     "output_type": "execute_result"
    }
   ],
   "source": [
    "info_company(\"AAPL\")"
   ]
  }
 ],
 "metadata": {
  "kernelspec": {
   "display_name": "EnvBourseproject",
   "language": "python",
   "name": "python3"
  },
  "language_info": {
   "codemirror_mode": {
    "name": "ipython",
    "version": 3
   },
   "file_extension": ".py",
   "mimetype": "text/x-python",
   "name": "python",
   "nbconvert_exporter": "python",
   "pygments_lexer": "ipython3",
   "version": "3.12.3"
  }
 },
 "nbformat": 4,
 "nbformat_minor": 2
}
