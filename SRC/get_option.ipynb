{
 "cells": [
  {
   "cell_type": "code",
   "execution_count": 1,
   "metadata": {},
   "outputs": [],
   "source": [
    "from API.get_data.api_yahoo import get_options"
   ]
  },
  {
   "cell_type": "code",
   "execution_count": 2,
   "metadata": {},
   "outputs": [],
   "source": [
    "options = get_options(\"TSLA\")"
   ]
  },
  {
   "cell_type": "markdown",
   "metadata": {},
   "source": [
    "    call → Une option CALL donne à l'acheteur le droit (mais pas l'obligation) d'ACHETER l'actif sous-jacent à un prix prédéfini avant ou à la date d'expiration\n",
    "    put → Une option PUT donne à l'acheteur le droit (mais pas l'obligation) de VENDRE l'actif sous-jacent à un prix prédéfini avant ou à la date d'expiration"
   ]
  },
  {
   "cell_type": "code",
   "execution_count": null,
   "metadata": {},
   "outputs": [],
   "source": []
  },
  {
   "cell_type": "code",
   "execution_count": 38,
   "metadata": {},
   "outputs": [],
   "source": [
    "def get_stat(df, col):\n",
    "    min = df[col].min()\n",
    "    max = df[col].max()\n",
    "    mean = df[col].mean()\n",
    "    median = df[col].median()\n",
    "    return min, max, mean, median"
   ]
  },
  {
   "cell_type": "code",
   "execution_count": null,
   "metadata": {},
   "outputs": [],
   "source": []
  },
  {
   "cell_type": "code",
   "execution_count": 3,
   "metadata": {},
   "outputs": [],
   "source": [
    "from API.get_data.api_yahoo import get_analyst_price_targets"
   ]
  },
  {
   "cell_type": "code",
   "execution_count": 58,
   "metadata": {},
   "outputs": [],
   "source": [
    "current_price = get_analyst_price_targets(\"TSLA\")[\"current\"]"
   ]
  },
  {
   "cell_type": "code",
   "execution_count": 36,
   "metadata": {},
   "outputs": [],
   "source": [
    "calls = options[(options[\"Type\"]==\"calls\") & (options[\"ask\"]>0)]"
   ]
  },
  {
   "cell_type": "code",
   "execution_count": 98,
   "metadata": {},
   "outputs": [],
   "source": [
    "# Moyenne pondérée par le volume\n",
    "# moyenen pondere = somme(ak_price * volume) / somme des volumes\n",
    "# but refléter l'importance relative de chaque option en prenant en compte les volumes\n",
    "mean_weighted_ask = (calls[\"ask\"] * calls[\"volume\"]).sum() / calls[\"volume\"].sum()\n",
    "mean_weighted_bid = (calls[\"bid\"] * calls[\"volume\"]).sum() / calls[\"volume\"].sum()\n",
    "\n",
    "# La différence entre prix moyen du vendeur et prix moyen que vendeur pret à mettre \n",
    "# weighted_spread = mean_weighted_ask - mean_weighted_bid"
   ]
  },
  {
   "cell_type": "code",
   "execution_count": 116,
   "metadata": {},
   "outputs": [],
   "source": [
    "CLASSIFICATION_RANGES = [\n",
    "    (-float(\"inf\"), -25, \"Very undervalued\"), # Très sous-évalué\n",
    "    (-25, -5, \"Slightly undervalued\"), # Légèrement sous-évalué\n",
    "    (-5, 5, \"Price within spread\"), # Prix dans le spread\n",
    "    (5, 25, \"Slightly overvalued\"), # Légèrement surévalué\n",
    "    (25, float(\"inf\"), \"Very overvalued\"), #Très surévalué\n",
    "]\n",
    "\n",
    "def get_ratio_cluster(ratio_spread):\n",
    "    \"\"\"\n",
    "    Estimate the cluster of the ratio_spread according to the defined intervals.\n",
    "\n",
    "    Args:\n",
    "        ratio_spread (float): Le ratio_spread à classifier.\n",
    "\n",
    "    Returns:\n",
    "        str: La classification correspondant au ratio_spread.\n",
    "    \"\"\"\n",
    "    for lower_value, upper_value, cluster in CLASSIFICATION_RANGES:\n",
    "        if lower_value <= ratio_spread < upper_value:\n",
    "            return cluster\n",
    "    return \"Non classifié\"  # Cas par défaut (ne devrait pas arriver)\n",
    "    "
   ]
  },
  {
   "cell_type": "code",
   "execution_count": 117,
   "metadata": {},
   "outputs": [
    {
     "data": {
      "text/plain": [
       "'Price within spread'"
      ]
     },
     "execution_count": 117,
     "metadata": {},
     "output_type": "execute_result"
    }
   ],
   "source": [
    "spread_radio = ((mean_weighted_ask - mean_weighted_bid) / (mean_weighted_ask + mean_weighted_bid)) * 100\n",
    "\n",
    "get_ratio_cluster(spread_radio)"
   ]
  },
  {
   "cell_type": "code",
   "execution_count": 19,
   "metadata": {},
   "outputs": [],
   "source": [
    "CLASSIFICATION_RANGES = [\n",
    "    (-float(\"inf\"), -25, \"Very undervalued\"), # Très sous-évalué\n",
    "    (-25, -5, \"Slightly undervalued\"), # Légèrement sous-évalué\n",
    "    (-5, 5, \"Price within spread\"), # Prix dans le spread\n",
    "    (5, 25, \"Slightly overvalued\"), # Légèrement surévalué\n",
    "    (25, float(\"inf\"), \"Very overvalued\"), #Très surévalué\n",
    "]\n",
    "\n",
    "def classify_spread(spread_ratio):\n",
    "    \"\"\"\n",
    "    Classify the spread ratio into predefined clusters.\n",
    "\n",
    "    Args:\n",
    "        spread_ratio (float): The spread ratio to classify.\n",
    "\n",
    "    Returns:\n",
    "        str: The cluster classification.\n",
    "    \"\"\"\n",
    "    return next(\n",
    "        (cluster for lower, upper, cluster in CLASSIFICATION_RANGES if lower <= spread_ratio < upper),\n",
    "        \"Non classifié\",  # Default case\n",
    "    )\n"
   ]
  },
  {
   "cell_type": "code",
   "execution_count": 20,
   "metadata": {},
   "outputs": [],
   "source": [
    "def get_options_cluster(df):\n",
    "    \"\"\"\n",
    "    Determine the market expectations of the company via these options. Those options can be :\n",
    "        - Very undervalued\n",
    "        - Slightly undervalued\n",
    "        - Price within spread\n",
    "        - Slightly overpriced\n",
    "        - Very overpriced\n",
    "    If is undervalued → sould buy\n",
    "    If is overvalued → sould not buy\n",
    "\n",
    "    Args:\n",
    "        df (dataframe): the dataframe to classify\n",
    "\n",
    "    Returns:\n",
    "        str: the cluster.\n",
    "    \"\"\"\n",
    "\n",
    "    # Weighted average by option volume\n",
    "    # weighted average = sum(price * volume) / sum of volumes\n",
    "    # goal is to reflect the relative importance of each option by taking volumes into account\n",
    "    mean_weighted_ask = (df[\"ask\"] * df[\"volume\"]).sum() / df[\"volume\"].sum()\n",
    "    mean_weighted_bid = (df[\"bid\"] * df[\"volume\"]).sum() / df[\"volume\"].sum()\n",
    "\n",
    "    spread_ratio = ((mean_weighted_ask - mean_weighted_bid) / (mean_weighted_ask + mean_weighted_bid)) * 100\n",
    "\n",
    "    # for lower_value, upper_value, cluster in CLASSIFICATION_RANGES:\n",
    "    #     if lower_value <= spread_ratio < upper_value:\n",
    "    #         return cluster\n",
    "    # return \"Non classifié\"  # Cas par défaut (ne devrait pas arriver)\n",
    "    return classify_spread(spread_ratio)\n",
    "    "
   ]
  },
  {
   "cell_type": "code",
   "execution_count": null,
   "metadata": {},
   "outputs": [],
   "source": [
    "faire un cluster pour call et un cluster pour puts\n",
    "enlever les ann pour eviter les div par 0"
   ]
  },
  {
   "cell_type": "code",
   "execution_count": 21,
   "metadata": {},
   "outputs": [
    {
     "data": {
      "text/plain": [
       "'Price within spread'"
      ]
     },
     "execution_count": 21,
     "metadata": {},
     "output_type": "execute_result"
    }
   ],
   "source": [
    "calls = options[(options[\"Type\"]==\"calls\") & (options[\"ask\"]>0)]\n",
    "get_options_cluster(calls)"
   ]
  },
  {
   "cell_type": "code",
   "execution_count": 17,
   "metadata": {},
   "outputs": [
    {
     "data": {
      "text/plain": [
       "'Price within spread'"
      ]
     },
     "execution_count": 17,
     "metadata": {},
     "output_type": "execute_result"
    }
   ],
   "source": [
    "puts = options[(options[\"Type\"]==\"puts\") & (options[\"ask\"]>0)]\n",
    "get_options_cluster(puts)"
   ]
  },
  {
   "cell_type": "code",
   "execution_count": 12,
   "metadata": {},
   "outputs": [
    {
     "name": "stdout",
     "output_type": "stream",
     "text": [
      "14.354896927074227 - 14.024458907445654\n"
     ]
    }
   ],
   "source": [
    "df = options[(options[\"Type\"]==\"puts\") & (options[\"ask\"]>0)]\n",
    "mean_weighted_ask = (df[\"ask\"] * df[\"volume\"]).sum() / df[\"volume\"].sum()\n",
    "mean_weighted_bid = (df[\"bid\"] * df[\"volume\"]).sum() / df[\"volume\"].sum()\n",
    "\n",
    "print(mean_weighted_ask, \"-\", mean_weighted_bid)"
   ]
  },
  {
   "cell_type": "code",
   "execution_count": 13,
   "metadata": {},
   "outputs": [
    {
     "name": "stdout",
     "output_type": "stream",
     "text": [
      "17.255944721654576 - 16.898941187038243\n"
     ]
    }
   ],
   "source": [
    "df = options[(options[\"Type\"]==\"calls\") & (options[\"ask\"]>0)]\n",
    "mean_weighted_ask = (df[\"ask\"] * df[\"volume\"]).sum() / df[\"volume\"].sum()\n",
    "mean_weighted_bid = (df[\"bid\"] * df[\"volume\"]).sum() / df[\"volume\"].sum()\n",
    "\n",
    "print(mean_weighted_ask, \"-\", mean_weighted_bid)"
   ]
  },
  {
   "cell_type": "code",
   "execution_count": 10,
   "metadata": {},
   "outputs": [
    {
     "data": {
      "text/plain": [
       "'Price within spread'"
      ]
     },
     "execution_count": 10,
     "metadata": {},
     "output_type": "execute_result"
    }
   ],
   "source": [
    "get_options_cluster(options)"
   ]
  },
  {
   "cell_type": "code",
   "execution_count": null,
   "metadata": {},
   "outputs": [],
   "source": [
    "def \n",
    "\n",
    "moyenen pondere \n",
    "mediane price\n",
    "si sur ou sous evalue "
   ]
  },
  {
   "cell_type": "code",
   "execution_count": 49,
   "metadata": {},
   "outputs": [
    {
     "data": {
      "text/plain": [
       "np.float64(121.92125000000001)"
      ]
     },
     "execution_count": 49,
     "metadata": {},
     "output_type": "execute_result"
    }
   ],
   "source": [
    "mean_ask"
   ]
  },
  {
   "cell_type": "code",
   "execution_count": 44,
   "metadata": {},
   "outputs": [
    {
     "name": "stdout",
     "output_type": "stream",
     "text": [
      "0.01 6.25 1.826708185053377 1.1749999999999972\n"
     ]
    }
   ],
   "source": [
    "min_ask, max_ask, mean_ask, median_ask = get_stat(calls, \"ask\")\n",
    "min_bid, max_bid, mean_bid, median_bid = get_stat(calls, \"bid\")\n",
    "\n",
    "diff_min = min_ask - min_bid\n",
    "diff_max = max_ask - max_bid\n",
    "diff_mean = mean_ask - mean_bid\n",
    "diff_median = median_ask - median_bid\n",
    "\n",
    "print(diff_min, diff_max, diff_mean, diff_median)"
   ]
  },
  {
   "cell_type": "markdown",
   "metadata": {},
   "source": [
    "Calcul de l'écart entre prix acheteur et vendeur\n",
    "    Si le décalage entre le prix proposé par le vendeur et celui proposé par l'acheteur est important, on peut considère que le prix demander ne correspond pas aux attentes du marché.\n",
    "    \n",
    "    Cas 1 : Valeur positive (acheteur demande trop)\n",
    "        Si le prix proposé par l'acheteur est supérieur → option est surévaluée.\n",
    "\n",
    "    Cas 2 : Valeur négative (beaucoup de demandes)\n",
    "        Si la demande est forte (prix acheteur élevé par rapport au vendeur) → option est sous-évaluée par le marché à cet instant."
   ]
  },
  {
   "cell_type": "code",
   "execution_count": null,
   "metadata": {},
   "outputs": [],
   "source": [
    "def spread_bid_ask()\n",
    "    \"\"\"\n",
    "    Calculating the gap between buyer and seller prices\n",
    "    If the gap between the price proposed by the seller and that proposed by the buyer is significant, we can consider that the asking price does not correspond to market expectations.\n",
    "    \n",
    "    Case 1: Positive value (buyer asks too much)\n",
    "        If the price proposed by the buyer is higher → option is overvalued.\n",
    "\n",
    "    Case 2: Negative value (many requests)\n",
    "        If demand is strong (buyer's price high relative to seller's) → option is undervalued by the market at that moment.\n",
    "    \"\"\""
   ]
  },
  {
   "cell_type": "code",
   "execution_count": null,
   "metadata": {},
   "outputs": [],
   "source": []
  },
  {
   "cell_type": "code",
   "execution_count": 27,
   "metadata": {},
   "outputs": [
    {
     "data": {
      "text/html": [
       "<div>\n",
       "<style scoped>\n",
       "    .dataframe tbody tr th:only-of-type {\n",
       "        vertical-align: middle;\n",
       "    }\n",
       "\n",
       "    .dataframe tbody tr th {\n",
       "        vertical-align: top;\n",
       "    }\n",
       "\n",
       "    .dataframe thead th {\n",
       "        text-align: right;\n",
       "    }\n",
       "</style>\n",
       "<table border=\"1\" class=\"dataframe\">\n",
       "  <thead>\n",
       "    <tr style=\"text-align: right;\">\n",
       "      <th></th>\n",
       "      <th>contractSymbol</th>\n",
       "      <th>lastTradeDate</th>\n",
       "      <th>strike</th>\n",
       "      <th>lastPrice</th>\n",
       "      <th>bid</th>\n",
       "      <th>ask</th>\n",
       "      <th>change</th>\n",
       "      <th>percentChange</th>\n",
       "      <th>volume</th>\n",
       "      <th>openInterest</th>\n",
       "      <th>impliedVolatility</th>\n",
       "      <th>inTheMoney</th>\n",
       "      <th>contractSize</th>\n",
       "      <th>currency</th>\n",
       "      <th>expirationDate</th>\n",
       "      <th>Type</th>\n",
       "    </tr>\n",
       "  </thead>\n",
       "  <tbody>\n",
       "    <tr>\n",
       "      <th>2057</th>\n",
       "      <td>TSLA250620C00040000</td>\n",
       "      <td>2024-12-02 19:42:44+00:00</td>\n",
       "      <td>40.0</td>\n",
       "      <td>318.56</td>\n",
       "      <td>0.00</td>\n",
       "      <td>0.00</td>\n",
       "      <td>0.000000</td>\n",
       "      <td>0.000000</td>\n",
       "      <td>8.0</td>\n",
       "      <td>0</td>\n",
       "      <td>0.000010</td>\n",
       "      <td>True</td>\n",
       "      <td>REGULAR</td>\n",
       "      <td>USD</td>\n",
       "      <td>2025-06-20</td>\n",
       "      <td>calls</td>\n",
       "    </tr>\n",
       "    <tr>\n",
       "      <th>3150</th>\n",
       "      <td>TSLA251219C00035000</td>\n",
       "      <td>2024-12-02 20:23:21+00:00</td>\n",
       "      <td>35.0</td>\n",
       "      <td>326.62</td>\n",
       "      <td>0.00</td>\n",
       "      <td>0.00</td>\n",
       "      <td>0.000000</td>\n",
       "      <td>0.000000</td>\n",
       "      <td>1.0</td>\n",
       "      <td>0</td>\n",
       "      <td>0.000010</td>\n",
       "      <td>True</td>\n",
       "      <td>REGULAR</td>\n",
       "      <td>USD</td>\n",
       "      <td>2025-12-19</td>\n",
       "      <td>calls</td>\n",
       "    </tr>\n",
       "    <tr>\n",
       "      <th>151</th>\n",
       "      <td>TSLA250124C00750000</td>\n",
       "      <td>2025-01-17 20:58:22+00:00</td>\n",
       "      <td>750.0</td>\n",
       "      <td>0.01</td>\n",
       "      <td>0.00</td>\n",
       "      <td>0.01</td>\n",
       "      <td>0.000000</td>\n",
       "      <td>0.000000</td>\n",
       "      <td>86.0</td>\n",
       "      <td>1213</td>\n",
       "      <td>1.156254</td>\n",
       "      <td>False</td>\n",
       "      <td>REGULAR</td>\n",
       "      <td>USD</td>\n",
       "      <td>2025-01-24</td>\n",
       "      <td>calls</td>\n",
       "    </tr>\n",
       "    <tr>\n",
       "      <th>159</th>\n",
       "      <td>TSLA250124C00830000</td>\n",
       "      <td>2025-01-17 16:04:54+00:00</td>\n",
       "      <td>830.0</td>\n",
       "      <td>0.01</td>\n",
       "      <td>0.00</td>\n",
       "      <td>0.01</td>\n",
       "      <td>0.000000</td>\n",
       "      <td>0.000000</td>\n",
       "      <td>1.0</td>\n",
       "      <td>166</td>\n",
       "      <td>1.343753</td>\n",
       "      <td>False</td>\n",
       "      <td>REGULAR</td>\n",
       "      <td>USD</td>\n",
       "      <td>2025-01-24</td>\n",
       "      <td>calls</td>\n",
       "    </tr>\n",
       "    <tr>\n",
       "      <th>165</th>\n",
       "      <td>TSLA250124C00890000</td>\n",
       "      <td>2025-01-15 17:29:00+00:00</td>\n",
       "      <td>890.0</td>\n",
       "      <td>0.01</td>\n",
       "      <td>0.00</td>\n",
       "      <td>0.01</td>\n",
       "      <td>0.000000</td>\n",
       "      <td>0.000000</td>\n",
       "      <td>19.0</td>\n",
       "      <td>542</td>\n",
       "      <td>1.468753</td>\n",
       "      <td>False</td>\n",
       "      <td>REGULAR</td>\n",
       "      <td>USD</td>\n",
       "      <td>2025-01-24</td>\n",
       "      <td>calls</td>\n",
       "    </tr>\n",
       "    <tr>\n",
       "      <th>...</th>\n",
       "      <td>...</td>\n",
       "      <td>...</td>\n",
       "      <td>...</td>\n",
       "      <td>...</td>\n",
       "      <td>...</td>\n",
       "      <td>...</td>\n",
       "      <td>...</td>\n",
       "      <td>...</td>\n",
       "      <td>...</td>\n",
       "      <td>...</td>\n",
       "      <td>...</td>\n",
       "      <td>...</td>\n",
       "      <td>...</td>\n",
       "      <td>...</td>\n",
       "      <td>...</td>\n",
       "      <td>...</td>\n",
       "    </tr>\n",
       "    <tr>\n",
       "      <th>3144</th>\n",
       "      <td>TSLA251219C00005000</td>\n",
       "      <td>2025-01-16 18:02:38+00:00</td>\n",
       "      <td>5.0</td>\n",
       "      <td>409.75</td>\n",
       "      <td>419.90</td>\n",
       "      <td>424.70</td>\n",
       "      <td>0.000000</td>\n",
       "      <td>0.000000</td>\n",
       "      <td>101.0</td>\n",
       "      <td>4374</td>\n",
       "      <td>2.500004</td>\n",
       "      <td>True</td>\n",
       "      <td>REGULAR</td>\n",
       "      <td>USD</td>\n",
       "      <td>2025-12-19</td>\n",
       "      <td>calls</td>\n",
       "    </tr>\n",
       "    <tr>\n",
       "      <th>3379</th>\n",
       "      <td>TSLA260116C00005000</td>\n",
       "      <td>2025-01-17 19:20:05+00:00</td>\n",
       "      <td>5.0</td>\n",
       "      <td>433.50</td>\n",
       "      <td>418.35</td>\n",
       "      <td>426.65</td>\n",
       "      <td>25.500000</td>\n",
       "      <td>6.250000</td>\n",
       "      <td>9.0</td>\n",
       "      <td>11694</td>\n",
       "      <td>2.521488</td>\n",
       "      <td>True</td>\n",
       "      <td>REGULAR</td>\n",
       "      <td>USD</td>\n",
       "      <td>2026-01-16</td>\n",
       "      <td>calls</td>\n",
       "    </tr>\n",
       "    <tr>\n",
       "      <th>3146</th>\n",
       "      <td>TSLA251219C00015000</td>\n",
       "      <td>2024-11-14 16:15:40+00:00</td>\n",
       "      <td>15.0</td>\n",
       "      <td>304.26</td>\n",
       "      <td>418.90</td>\n",
       "      <td>426.90</td>\n",
       "      <td>0.000000</td>\n",
       "      <td>0.000000</td>\n",
       "      <td>10.0</td>\n",
       "      <td>31</td>\n",
       "      <td>3.922363</td>\n",
       "      <td>True</td>\n",
       "      <td>REGULAR</td>\n",
       "      <td>USD</td>\n",
       "      <td>2025-12-19</td>\n",
       "      <td>calls</td>\n",
       "    </tr>\n",
       "    <tr>\n",
       "      <th>3598</th>\n",
       "      <td>TSLA260618C00005000</td>\n",
       "      <td>2025-01-16 20:51:43+00:00</td>\n",
       "      <td>5.0</td>\n",
       "      <td>410.56</td>\n",
       "      <td>419.05</td>\n",
       "      <td>426.90</td>\n",
       "      <td>0.000000</td>\n",
       "      <td>0.000000</td>\n",
       "      <td>11.0</td>\n",
       "      <td>1896</td>\n",
       "      <td>2.329594</td>\n",
       "      <td>True</td>\n",
       "      <td>REGULAR</td>\n",
       "      <td>USD</td>\n",
       "      <td>2026-06-18</td>\n",
       "      <td>calls</td>\n",
       "    </tr>\n",
       "    <tr>\n",
       "      <th>3823</th>\n",
       "      <td>TSLA261218C00005000</td>\n",
       "      <td>2025-01-17 15:27:54+00:00</td>\n",
       "      <td>5.0</td>\n",
       "      <td>425.79</td>\n",
       "      <td>419.35</td>\n",
       "      <td>427.10</td>\n",
       "      <td>15.170013</td>\n",
       "      <td>3.694416</td>\n",
       "      <td>5.0</td>\n",
       "      <td>5529</td>\n",
       "      <td>2.093755</td>\n",
       "      <td>True</td>\n",
       "      <td>REGULAR</td>\n",
       "      <td>USD</td>\n",
       "      <td>2026-12-18</td>\n",
       "      <td>calls</td>\n",
       "    </tr>\n",
       "  </tbody>\n",
       "</table>\n",
       "<p>2250 rows × 16 columns</p>\n",
       "</div>"
      ],
      "text/plain": [
       "           contractSymbol             lastTradeDate  strike  lastPrice  \\\n",
       "2057  TSLA250620C00040000 2024-12-02 19:42:44+00:00    40.0     318.56   \n",
       "3150  TSLA251219C00035000 2024-12-02 20:23:21+00:00    35.0     326.62   \n",
       "151   TSLA250124C00750000 2025-01-17 20:58:22+00:00   750.0       0.01   \n",
       "159   TSLA250124C00830000 2025-01-17 16:04:54+00:00   830.0       0.01   \n",
       "165   TSLA250124C00890000 2025-01-15 17:29:00+00:00   890.0       0.01   \n",
       "...                   ...                       ...     ...        ...   \n",
       "3144  TSLA251219C00005000 2025-01-16 18:02:38+00:00     5.0     409.75   \n",
       "3379  TSLA260116C00005000 2025-01-17 19:20:05+00:00     5.0     433.50   \n",
       "3146  TSLA251219C00015000 2024-11-14 16:15:40+00:00    15.0     304.26   \n",
       "3598  TSLA260618C00005000 2025-01-16 20:51:43+00:00     5.0     410.56   \n",
       "3823  TSLA261218C00005000 2025-01-17 15:27:54+00:00     5.0     425.79   \n",
       "\n",
       "         bid     ask     change  percentChange  volume  openInterest  \\\n",
       "2057    0.00    0.00   0.000000       0.000000     8.0             0   \n",
       "3150    0.00    0.00   0.000000       0.000000     1.0             0   \n",
       "151     0.00    0.01   0.000000       0.000000    86.0          1213   \n",
       "159     0.00    0.01   0.000000       0.000000     1.0           166   \n",
       "165     0.00    0.01   0.000000       0.000000    19.0           542   \n",
       "...      ...     ...        ...            ...     ...           ...   \n",
       "3144  419.90  424.70   0.000000       0.000000   101.0          4374   \n",
       "3379  418.35  426.65  25.500000       6.250000     9.0         11694   \n",
       "3146  418.90  426.90   0.000000       0.000000    10.0            31   \n",
       "3598  419.05  426.90   0.000000       0.000000    11.0          1896   \n",
       "3823  419.35  427.10  15.170013       3.694416     5.0          5529   \n",
       "\n",
       "      impliedVolatility  inTheMoney contractSize currency expirationDate  \\\n",
       "2057           0.000010        True      REGULAR      USD     2025-06-20   \n",
       "3150           0.000010        True      REGULAR      USD     2025-12-19   \n",
       "151            1.156254       False      REGULAR      USD     2025-01-24   \n",
       "159            1.343753       False      REGULAR      USD     2025-01-24   \n",
       "165            1.468753       False      REGULAR      USD     2025-01-24   \n",
       "...                 ...         ...          ...      ...            ...   \n",
       "3144           2.500004        True      REGULAR      USD     2025-12-19   \n",
       "3379           2.521488        True      REGULAR      USD     2026-01-16   \n",
       "3146           3.922363        True      REGULAR      USD     2025-12-19   \n",
       "3598           2.329594        True      REGULAR      USD     2026-06-18   \n",
       "3823           2.093755        True      REGULAR      USD     2026-12-18   \n",
       "\n",
       "       Type  \n",
       "2057  calls  \n",
       "3150  calls  \n",
       "151   calls  \n",
       "159   calls  \n",
       "165   calls  \n",
       "...     ...  \n",
       "3144  calls  \n",
       "3379  calls  \n",
       "3146  calls  \n",
       "3598  calls  \n",
       "3823  calls  \n",
       "\n",
       "[2250 rows x 16 columns]"
      ]
     },
     "execution_count": 27,
     "metadata": {},
     "output_type": "execute_result"
    }
   ],
   "source": [
    "options[options[\"Type\"]==\"calls\"].sort_values(\"ask\")"
   ]
  },
  {
   "cell_type": "code",
   "execution_count": 21,
   "metadata": {},
   "outputs": [
    {
     "data": {
      "text/plain": [
       "np.float64(121.81287555555555)"
      ]
     },
     "execution_count": 21,
     "metadata": {},
     "output_type": "execute_result"
    }
   ],
   "source": [
    "options[options[\"Type\"]==\"calls\"][\"ask\"].mean()"
   ]
  },
  {
   "cell_type": "code",
   "execution_count": 22,
   "metadata": {},
   "outputs": [
    {
     "data": {
      "text/plain": [
       "np.float64(81.65)"
      ]
     },
     "execution_count": 22,
     "metadata": {},
     "output_type": "execute_result"
    }
   ],
   "source": [
    "options[options[\"Type\"]==\"calls\"][\"ask\"].median()"
   ]
  },
  {
   "cell_type": "code",
   "execution_count": 25,
   "metadata": {},
   "outputs": [
    {
     "data": {
      "text/plain": [
       "np.float64(427.1)"
      ]
     },
     "execution_count": 25,
     "metadata": {},
     "output_type": "execute_result"
    }
   ],
   "source": [
    "options[options[\"Type\"]==\"calls\"][\"ask\"].max()"
   ]
  },
  {
   "cell_type": "code",
   "execution_count": 23,
   "metadata": {},
   "outputs": [
    {
     "data": {
      "text/plain": [
       "np.float64(0.0)"
      ]
     },
     "execution_count": 23,
     "metadata": {},
     "output_type": "execute_result"
    }
   ],
   "source": [
    "options[options[\"Type\"]==\"calls\"][\"ask\"].min()"
   ]
  },
  {
   "cell_type": "code",
   "execution_count": null,
   "metadata": {},
   "outputs": [],
   "source": [
    "def count_options():\n",
    "    nbr_puts = options[options[\"Type\"]==\"puts\"].shape[0]\n",
    "    nbr_calls = options[options[\"Type\"]==\"calls\"].shape[0]"
   ]
  }
 ],
 "metadata": {
  "kernelspec": {
   "display_name": "EnvBourseproject",
   "language": "python",
   "name": "python3"
  },
  "language_info": {
   "codemirror_mode": {
    "name": "ipython",
    "version": 3
   },
   "file_extension": ".py",
   "mimetype": "text/x-python",
   "name": "python",
   "nbconvert_exporter": "python",
   "pygments_lexer": "ipython3",
   "version": "3.12.3"
  }
 },
 "nbformat": 4,
 "nbformat_minor": 2
}
